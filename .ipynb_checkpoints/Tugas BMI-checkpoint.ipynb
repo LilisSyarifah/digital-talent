{
 "cells": [
  {
   "cell_type": "markdown",
   "metadata": {},
   "source": [
    "# Tugas Perhitungan BMI"
   ]
  },
  {
   "cell_type": "code",
   "execution_count": 1,
   "metadata": {},
   "outputs": [
    {
     "name": "stdout",
     "output_type": "stream",
     "text": [
      "BMI adalah 24.998903556861542\n",
      "Normal (healty weight)\n"
     ]
    }
   ],
   "source": [
    "weight = 57.0\n",
    "heigh = 151.0/100\n",
    "BMI = weight/(heigh**2)\n",
    "\n",
    "print(\"BMI adalah\", BMI)\n",
    "\n",
    "if BMI < 15.0:\n",
    "    print(\"Very serverely underweght\")\n",
    "elif BMI<16.0 and BMI>15.0:\n",
    "    print(\"Severely underweight\")\n",
    "elif BMI<18.5 and BMI>16.0:\n",
    "    print(\"Underweight\")\n",
    "elif BMI<25.0 and BMI>18.5:\n",
    "    print(\"Normal (healty weight)\")\n",
    "elif BMI<30.0 and BMI>25.0:\n",
    "    print(\"Overweight\")\n",
    "elif BMI<35.0 and BMI>30.0:\n",
    "    print(\"Moderately obese\")\n",
    "elif BMI<40.0 and BMI>35.0:\n",
    "    print(\"Severely obese\")\n",
    "elif BMI>40.0:\n",
    "    print(\"Very severely obese\")"
   ]
  },
  {
   "cell_type": "code",
   "execution_count": null,
   "metadata": {},
   "outputs": [],
   "source": []
  }
 ],
 "metadata": {
  "kernelspec": {
   "display_name": "Python 3",
   "language": "python",
   "name": "python3"
  },
  "language_info": {
   "codemirror_mode": {
    "name": "ipython",
    "version": 3
   },
   "file_extension": ".py",
   "mimetype": "text/x-python",
   "name": "python",
   "nbconvert_exporter": "python",
   "pygments_lexer": "ipython3",
   "version": "3.6.5"
  }
 },
 "nbformat": 4,
 "nbformat_minor": 2
}
